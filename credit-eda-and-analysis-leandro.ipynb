{
 "cells": [
  {
   "cell_type": "markdown",
   "id": "69b103f5",
   "metadata": {},
   "source": [
    "# Exploração e análise de dados de crédito com SQL"
   ]
  },
  {
   "cell_type": "markdown",
   "id": "22a70b52",
   "metadata": {},
   "source": [
    "## Índice <a name=\"topo\"></a>\n",
    "\n",
    "1. [Entendimento do negócio](#1)\n",
    "2. [Entendimento dos dados](#2)\n",
    "3. [Exploração dos dados](#3)\n",
    "4. [Análise](#4)\n",
    "5. [Conclusões](#5)"
   ]
  },
  {
   "cell_type": "markdown",
   "id": "3f59bbe7",
   "metadata": {},
   "source": [
    "## 1. Entendimento do negócio <a name=\"1\"></a>\n",
    "<div style=\"text-align: right\" \n",
    "     \n",
    "[Voltar ao índice](#topo)"
   ]
  },
  {
   "cell_type": "markdown",
   "id": "e23148fb",
   "metadata": {},
   "source": [
    "Este é projeto é formado por 3 objetivos:\n",
    "* Fornecer uma exploração dos dados via SQL\n",
    "* Analisar alguns dados para compreender como uma análise de crédito depende de determinadas variáveis\n",
    "* Apresentar insights que possam auxiliar na tomada de decisão da instituição financeira "
   ]
  },
  {
   "cell_type": "markdown",
   "id": "179c3214",
   "metadata": {},
   "source": [
    "## 2. Entendimento dos dados <a name=\"2\"></a>\n",
    "<div style=\"text-align: right\" \n",
    "     \n",
    "[Voltar ao índice](#topo)\n",
    "     \n",
    "Os dados representam informações de clientes de um banco e contam com as seguintes colunas: "
   ]
  },
  {
   "cell_type": "markdown",
   "id": "093e2ed8",
   "metadata": {},
   "source": [
    "\n",
    "<h1><center>Dicionário de dados</center></h1> \n",
    "\n",
    "| Variável                | Descrição                                           | Tipo         |\n",
    "| ----------------------- |:---------------------------------------------------:| ------------:|\n",
    "| idade | idade do cliente | inteiro|\n",
    "| sexo | sexo do cliente (F ou M) | string|\n",
    "| dependentes | número de dependentes do cliente | inteiro|\n",
    "| escolaridade | nível de escolaridade do clientes | string|\n",
    "| salario_anual | faixa salarial do cliente | string|\n",
    "| tipo_cartao | tipo de cartao do cliente | string|\n",
    "| qtd_produtos | quantidade de produtos comprados nos últimos 12 meses | bigint|\n",
    "| iteracoes_12m | quantidade de iterações/transacoes nos ultimos 12 meses | inteiro|\n",
    "| meses_inativo_12m | quantidade de meses que o cliente ficou inativo | inteiro|\n",
    "| limite_credito | limite de credito do cliente | float|\n",
    "|valor_transacoes_12m | valor das transações dos ultimos 12 meses |float|\n",
    "|qtd_transacoes_12m  | quantidade de transacoes dos ultimos 12 meses | inteiro|\n",
    "\n",
    "\n",
    "A tabela foi criada no **PostgreSQL** com uma versão dos dados disponibilizados em: https://github.com/Leandrogomesf/projeto-credit-score-eda-sql/blob/main/SQL_M8_support%20material_exercise_credit.csv\n",
    "\n",
    "Os dados foram também produzidos pela ferramenta do **PostgreSQL**."
   ]
  },
  {
   "cell_type": "markdown",
   "id": "36331883",
   "metadata": {},
   "source": [
    "## 3. Exploração de dados <a name=\"3\"></a>\n",
    "<div style=\"text-align: right\" \n",
    "     \n",
    "[Voltar ao índice](#topo)"
   ]
  },
  {
   "cell_type": "markdown",
   "id": "fe81b5a5",
   "metadata": {
    "papermill": {
     "duration": 0.004304,
     "end_time": "2021-07-20T20:16:13.383287",
     "exception": false,
     "start_time": "2021-07-20T20:16:13.378983",
     "status": "completed"
    },
    "tags": []
   },
   "source": [
    "A primeira fase da análise é entender o que tem na nossa matéria prima. Vamos a exploração de dados:\n",
    "\n",
    "**Qual a quantidade de informações temos na nossa base de dados?**\n",
    "\n",
    "Query: SELECT count(*) FROM credito\n",
    "> Reposta: 2564 linhas"
   ]
  },
  {
   "cell_type": "markdown",
   "id": "aba32654",
   "metadata": {
    "papermill": {
     "duration": 0.004304,
     "end_time": "2021-07-20T20:16:13.383287",
     "exception": false,
     "start_time": "2021-07-20T20:16:13.378983",
     "status": "completed"
    },
    "tags": []
   },
   "source": [
    "**Como são os dados** \n",
    "\n",
    "Query: SELECT * FROM credito LIMIT 10;\n",
    "![Dez primeiras linhas do dataset](https://github.com/marianeneiva/sqlEBAC/blob/main/limit10.png?raw=true)\n",
    "\n",
    "> É possível reparar que existem algumas informações nulas na tabela (valor na), vamos olhar mais de perto para os valores de cada coluna!"
   ]
  },
  {
   "cell_type": "markdown",
   "id": "578019d5",
   "metadata": {
    "papermill": {
     "duration": 0.004304,
     "end_time": "2021-07-20T20:16:13.383287",
     "exception": false,
     "start_time": "2021-07-20T20:16:13.378983",
     "status": "completed"
    },
    "tags": []
   },
   "source": [
    "**Quais os tipos de cada dado**\n",
    "\n",
    "**Query:** DESCRIBE credito\n",
    "\n",
    "![Descrição dos tipos de dados](https://github.com/marianeneiva/sqlEBAC/blob/main/describe.png?raw=true)\n",
    "\n",
    "> Estes dados já haviam sido coletados na fase de anterior de entendimento dos dados"
   ]
  },
  {
   "cell_type": "markdown",
   "id": "cfea26e9",
   "metadata": {
    "papermill": {
     "duration": 0.004304,
     "end_time": "2021-07-20T20:16:13.383287",
     "exception": false,
     "start_time": "2021-07-20T20:16:13.378983",
     "status": "completed"
    },
    "tags": []
   },
   "source": [
    "Agora que ja entendemos quais são os tipos de dados, vamos olhar mais atentamente para as varíaveis que não são numéricas.\n",
    "\n",
    "**Quais são os tipos de escolaridade disponíveis no dataset?**\n",
    "\n",
    "**Query:** SELECT DISTINCT escolaridade FROM credito\n",
    "\n",
    "![Tipos de escolaridade](https://github.com/marianeneiva/sqlEBAC/blob/main/escolaridade.png?raw=true)\n",
    "\n",
    "> Os dados contam com vários níveis de escolaridade e é possível perceber que temos valores nulos (na) no dataset, trataremos isso mais tarde!"
   ]
  },
  {
   "cell_type": "markdown",
   "id": "f4993b8f",
   "metadata": {
    "papermill": {
     "duration": 0.004304,
     "end_time": "2021-07-20T20:16:13.383287",
     "exception": false,
     "start_time": "2021-07-20T20:16:13.378983",
     "status": "completed"
    },
    "tags": []
   },
   "source": [
    "Será que temos mais valores nulos?\n",
    "\n",
    "**Quais são os tipos de estado_civil disponíveis no dataset?**\n",
    "\n",
    "**Query:** SELECT DISTINCT estado_civil  FROM credito\n",
    "\n",
    "![Tipos de estado civil](https://github.com/Leandrogomesf/projeto-credit-score-eda-sql/blob/main/graficos/Captura%20de%20tela%202023-08-22%20190509.png?raw=true)\n",
    "\n",
    "> Novamente encontramos valores nulos nos dados de estado civil!"
   ]
  },
  {
   "cell_type": "markdown",
   "id": "b8335908",
   "metadata": {
    "papermill": {
     "duration": 0.004304,
     "end_time": "2021-07-20T20:16:13.383287",
     "exception": false,
     "start_time": "2021-07-20T20:16:13.378983",
     "status": "completed"
    },
    "tags": []
   },
   "source": [
    "**Quais são os tipos de salario_anual disponíveis no dataset?**\n",
    "\n",
    "**Query:** SELECT DISTINCT salario_anual  FROM credito\n",
    "\n",
    "![Tipos de salario anual](https://github.com/marianeneiva/sqlEBAC/blob/main/salario_anual.png?raw=true)\n",
    "\n",
    "> Os salários nesse dataset não estão expostas com o valor exato que o cliente ganha. O que está informado é a faixa salarial de cada um. Também contem dados nulos. "
   ]
  },
  {
   "cell_type": "markdown",
   "id": "97ba6770",
   "metadata": {
    "papermill": {
     "duration": 0.004304,
     "end_time": "2021-07-20T20:16:13.383287",
     "exception": false,
     "start_time": "2021-07-20T20:16:13.378983",
     "status": "completed"
    },
    "tags": []
   },
   "source": [
    "**Quais são os tipos de cartão disponíveis no dataset?**\n",
    "\n",
    "**Query:** SELECT DISTINCT tipo_cartao  FROM credito\n",
    "\n",
    "![Tipos de cartão](https://github.com/marianeneiva/sqlEBAC/blob/main/cartao.png?raw=true)\n",
    "\n",
    "> Aqui vemos que não há necessidade de tratar valores nulos."
   ]
  },
  {
   "cell_type": "markdown",
   "id": "ed882e7a",
   "metadata": {},
   "source": [
    "Como a variável ``sexo`` é binária, ou F ou M, é evidente que só temos está duas categorias."
   ]
  },
  {
   "cell_type": "markdown",
   "id": "819973be",
   "metadata": {
    "papermill": {
     "duration": 0.003098,
     "end_time": "2021-07-20T20:16:13.390195",
     "exception": false,
     "start_time": "2021-07-20T20:16:13.387097",
     "status": "completed"
    },
    "tags": []
   },
   "source": [
    "## 4. Análise de dados <a name=\"4\"></a>\n",
    "<div style=\"text-align: right\" \n",
    "     \n",
    "[Voltar ao índice](#topo)\n",
    "\n",
    "Uma vez que exploramos os dados e buscamos entender quais são as informações que temos no nosso banco de dados, podemos analisar as informações para buscar entender o que está acontecendo no banco de dados. "
   ]
  },
  {
   "cell_type": "markdown",
   "id": "76649fb5",
   "metadata": {
    "papermill": {
     "duration": 0.003098,
     "end_time": "2021-07-20T20:16:13.390195",
     "exception": false,
     "start_time": "2021-07-20T20:16:13.387097",
     "status": "completed"
    },
    "tags": []
   },
   "source": [
    "### **Nesse banco de dados, quantos clientes temos de cada faixa salarial?**\n",
    "\n",
    "**Query:** select count(*), salario_anual from credito group by salario_anual\n",
    "\n",
    "![Quantidade para cada faixa salarial](https://github.com/marianeneiva/sqlEBAC/blob/main/faixa_salarial.png?raw=true)\n",
    "\n",
    "![Gráfico da distribuição de cada faixa salarial](https://github.com/Leandrogomesf/projeto-credit-score-eda-sql/blob/main/graficos/contagem%20salario%20anual.png?raw=true)\n",
    "\n",
    "> A maioria dos clientes dessa base de dados possui um renda menor que 40K e existem 235 clientes que não informaram ou não consta a faixa salarial. \n",
    "> De certa forma, pode ser interessante para a empresa focar nesse público de mais baixa renda. "
   ]
  },
  {
   "cell_type": "markdown",
   "id": "d1129086",
   "metadata": {
    "papermill": {
     "duration": 0.003098,
     "end_time": "2021-07-20T20:16:13.390195",
     "exception": false,
     "start_time": "2021-07-20T20:16:13.387097",
     "status": "completed"
    },
    "tags": []
   },
   "source": [
    "### **Nesse banco de dados, quantos clientes são homens e quantos são mulheres?**\n",
    "\n",
    "**Query:** select count(*), sexo from credito group by sexo\n",
    "\n",
    "\n",
    "![Quantidade para cada sexo](https://github.com/marianeneiva/sqlEBAC/blob/main/faixa_sexo.png?raw=true)\n",
    "\n",
    "![Quantidade para cada sexo - gráfico](https://github.com/Leandrogomesf/projeto-credit-score-eda-sql/blob/main/graficos/distribuicao%20sxo.png?raw=true)\n",
    "\n",
    "> A maioria dos clientes desse banco é homem! Do csv extraído dos dados é possível gerar o gráfico em pizza com para melhor a proporção de masculino/feminino"
   ]
  },
  {
   "cell_type": "markdown",
   "id": "bd317ab0",
   "metadata": {
    "papermill": {
     "duration": 0.003098,
     "end_time": "2021-07-20T20:16:13.390195",
     "exception": false,
     "start_time": "2021-07-20T20:16:13.387097",
     "status": "completed"
    },
    "tags": []
   },
   "source": [
    "## **Queremos focar o nosso marketing de maneira adequada para nossos clientes, qual será a idade deles?**\n",
    "\n",
    "**Query:** select avg(idade) as media_idade, min(idade) as min_idade, max(idade) as max_idade, sexo from credito group by sexo\n",
    "![Média de idades por sexo](https://github.com/marianeneiva/sqlEBAC/blob/main/idade_sexopng.png?raw=true)\n",
    "![Gráfico de distribuição das idades entre os sexos](https://github.com/Leandrogomesf/projeto-credit-score-eda-sql/blob/main/graficos/idade_clientes.png?raw=true)\n",
    "\n",
    "> Por meio dessa análise não foi possível extrair nenhuma informação relevante.  A menor idade dos dois sexos é a mesma e a média é muito similar. A unica  diferença é a idade máxima mas fato quase irrelevante por a diferença não é tão gritante."
   ]
  },
  {
   "cell_type": "markdown",
   "id": "57bb7550",
   "metadata": {
    "papermill": {
     "duration": 0.003098,
     "end_time": "2021-07-20T20:16:13.390195",
     "exception": false,
     "start_time": "2021-07-20T20:16:13.387097",
     "status": "completed"
    },
    "tags": []
   },
   "source": [
    "### **Qual a maior e menor transação dos clientes por faixa salaria?**\n",
    "\n",
    "**Query:** select min(valor_transacoes_12m) as transacao_minima, max(valor_transacoes_12m) as transacao_minima from credito\n",
    "\n",
    "\n",
    "|transacao_minima|transacao_maxima|faixa_salaria  |\n",
    "|--------------:|--------------:|:-------------|\n",
    "|602.60          | 4686.93\t      |120 +         |\n",
    "|569.87          | 4642.78\t      |40K - 60K    |\n",
    "|644.06          | 4776.58\t      |na             |\n",
    "|530.36          | 4491.23\t      |60K - 80K    |\n",
    "|510.16          | 4740.94\t      |menos que 40K |\n",
    "|563.93          | 4542.69\t      |80K - 120K   |\n",
    "\n",
    "> Nesse banco de dados temos que o valor das transações no últimos 12 meses é bem semelhante quanto agrupados por faixa salarial. A maior transação é feito por cliente de um grupo de faixa salarial desconhecido e a menor por aquele que ganha menos que $40K"
   ]
  },
  {
   "cell_type": "markdown",
   "id": "55640bfe",
   "metadata": {
    "papermill": {
     "duration": 0.003098,
     "end_time": "2021-07-20T20:16:13.390195",
     "exception": false,
     "start_time": "2021-07-20T20:16:13.387097",
     "status": "completed"
    },
    "tags": []
   },
   "source": [
    "### **Quais as características dos clientes que possuem os maiores creditos?**\n",
    "\n",
    "**Query:** \n",
    "select max(limite_credito) as limite_credito, escolaridade, tipo_cartao, sexo \n",
    "from credito\n",
    "where escolaridade != 'na' and tipo_cartao != 'na' \n",
    "group by  escolaridade, tipo_cartao, sexo \n",
    "order by limite_credito desc\n",
    "limit 10\n",
    "\n",
    "![Valor limite](https://github.com/marianeneiva/sqlEBAC/blob/main/limite_desc.png?raw=true)\n",
    "\n",
    "> Não parece haver um impacto da escolaridade no limite. O limite mais alto é oferecido para um homem sem educação formal. O cartão também parece não estar relacionado com a escolaridade nem com o limite. Dentre os maiores limites, encontramos clientes com cartão: gold, silver, platinum e blue"
   ]
  },
  {
   "cell_type": "markdown",
   "id": "ca221c0b",
   "metadata": {
    "papermill": {
     "duration": 0.003098,
     "end_time": "2021-07-20T20:16:13.390195",
     "exception": false,
     "start_time": "2021-07-20T20:16:13.387097",
     "status": "completed"
    },
    "tags": []
   },
   "source": [
    "### **Quais as características dos clientes que possuem os menores creditos?**\n",
    "\n",
    "**Query:** \n",
    "select max(limite_credito) as limite_credito, escolaridade, tipo_cartao, sexo \n",
    "from credito\n",
    "where escolaridade != 'na' and tipo_cartao != 'na' \n",
    "group by  escolaridade, tipo_cartao, sexo \n",
    "order by limite_credito asc\n",
    "\n",
    "\n",
    "![Valor limite](https://github.com/marianeneiva/sqlEBAC/blob/main/limite_asc.png?raw=true)\n",
    "\n",
    "> Dessa vez conseguimos perceber que não há clientes com cartão platinum dentre os menores limites. Também foi possível perceber que a maioria dos menores limites são mulheres enquanto nos maiores limites predomina homens. "
   ]
  },
  {
   "cell_type": "markdown",
   "id": "299caa82",
   "metadata": {
    "papermill": {
     "duration": 0.003098,
     "end_time": "2021-07-20T20:16:13.390195",
     "exception": false,
     "start_time": "2021-07-20T20:16:13.387097",
     "status": "completed"
    },
    "tags": []
   },
   "source": [
    "### **Será que as mulheres gastam mais?**\n",
    "\n",
    "**Query:** \n",
    "select max(valor_transacoes_12m) as maior_valor_gasto, avg(valor_transacoes_12m) as  media_valor_gasto, min(valor_transacoes_12m) as min_valor_gasto, sexo \n",
    "from credito\n",
    "group by sexo \n",
    "\n",
    "\n",
    "![Valor transacoes/sexo](https://github.com/marianeneiva/sqlEBAC/blob/main/quemgastamais.png?raw=true)\n",
    "\n",
    "![Comparação de gastos por sexo](https://github.com/Leandrogomesf/projeto-credit-score-eda-sql/blob/main/graficos/valor_gasto_por_sexo.png?raw=true)\n",
    "\n",
    "> Apesar da diferença nos limites, os gastos de homens e mulheres são similares!\n",
    "\n",
    "Por fim, "
   ]
  },
  {
   "cell_type": "markdown",
   "id": "9af849ba",
   "metadata": {
    "papermill": {
     "duration": 0.003098,
     "end_time": "2021-07-20T20:16:13.390195",
     "exception": false,
     "start_time": "2021-07-20T20:16:13.387097",
     "status": "completed"
    },
    "tags": []
   },
   "source": [
    "### **O salário impacta no limite?**\n",
    "\n",
    "**Query:** select avg(qtd_produtos) as qts_produtos, avg(valor_transacoes_12m) as media_valor_transacoes, avg(limite_credito) as media_limite,  sexo,   salario_anual from credito \n",
    "where salario_anual != 'na'\n",
    "group by sexo, salario_anual\n",
    "order by avg(valor_transacoes_12m) desc\n",
    "\n",
    "![Valor salario_anualLimite](https://github.com/marianeneiva/sqlEBAC/blob/main/salarioAnualMediaLimite.png?raw=true)\n",
    "\n",
    "|count|salario_anual|\n",
    "|---:|:---|\n",
    "|222\t|120K +|\n",
    "|235\t|na|\n",
    "|450\t|60K - 80K|\n",
    "|467\t|40K - 60K|\n",
    "|488\t|80K - 120K|\n",
    "|701\t|menos que 40K|\n",
    "\n",
    "![Tamanho do limite por faixa salarial](https://github.com/Leandrogomesf/projeto-credit-score-eda-sql/blob/main/graficos/salario_limite.png?raw=true)"
   ]
  },
  {
   "cell_type": "markdown",
   "id": "001394fe",
   "metadata": {
    "papermill": {
     "duration": 0.003098,
     "end_time": "2021-07-20T20:16:13.390195",
     "exception": false,
     "start_time": "2021-07-20T20:16:13.387097",
     "status": "completed"
    },
    "tags": []
   },
   "source": [
    ">- SIM! As pessoas que tem menor faixa salarial também apresentam menor limite de credito!\n",
    ">- As pessoas com a maior faixa salarial tem o maior limite também e representam apenas 8% do total de clientes"
   ]
  },
  {
   "cell_type": "markdown",
   "id": "caa2ab6d",
   "metadata": {},
   "source": [
    "### **Há alguma diferença de limite de crédito por estado civil entre os sexos?**\n",
    "- **Query 1:** select max(limite_credito) as maior_limite, \n",
    "min(limite_credito) as menor_limite, \n",
    "round(avg(limite_credito), 2) as media_limite, \n",
    "estado_civil \n",
    "from credito \n",
    "where estado_civil != 'na'\n",
    "group by estado_civil\n",
    "\n",
    "----\n",
    "- **Query 2:**  select count(*) estado_civil, \n",
    " cast((count(estado_civil) / total.total)*100 as numeric(10,3)),\n",
    " estado_civil,sexo \n",
    " from credito, (select cast(count(estado_civil) as numeric(10,3))total from credito) total\n",
    " where estado_civil != 'na'\n",
    " group by estado_civil, sexo, total.total\n",
    " order by estado_civil\n",
    "\n",
    "#### <center> Max, min e média salarial por estado civil\n",
    "\n",
    "|maior_limite\t |menor_limite\t |media_limite |estado_civil|\n",
    "|---:|---:|---:|:---|\n",
    "|34516.96\t     |1438.03        |8140.69      |casado|\n",
    "|34516.99\t     |1438.14        |10198.15     |solteiro|\n",
    "|34516.99\t     |1438.34        |10485.89     |divorciado|\n",
    "\n",
    " ----\n",
    "    \n",
    "#### <center> Somatório de estado civil por sexo\n",
    "\n",
    "|Somatório| Percentual do somatório\t|estado_civil  |sexo|\n",
    "|---:|---:|:---|:---:|\n",
    "|308|0.12\t        |solteiro\t      |F|\n",
    "|458|0.18\t        |solteiro\t      |M|\n",
    "|591|0.24\t        |casado\t      |F|\n",
    "|929|0.37 \t        |casado\t      |M|\n",
    "|69\t|0.02            |divorciado\t  |F|\n",
    "|92\t|0.03            |divorciado\t  |M|\n"
   ]
  },
  {
   "cell_type": "markdown",
   "id": "eeb32b47",
   "metadata": {},
   "source": [
    "> - Clientes casados têm um limite mais baixo do que solteiros ou divorciados.\n",
    "> - A base é composta por mais homens e mulheres casados, totalizando 61%. Solteiros em 2 lugar com 30% e divociados por último com 5%."
   ]
  },
  {
   "cell_type": "markdown",
   "id": "6bdeb184",
   "metadata": {},
   "source": [
    "### Pessoas casadas gastam mais?\n",
    "\n",
    "**Query:** SELECT round(avg(valor_transacoes_12m),2) as media_valor_gasto, estado_civil \n",
    "FROM credito\n",
    "where estado_civil != 'na'\n",
    "group by estado_civil\n",
    "\n",
    "![Valor gasto por estado civil](https://github.com/Leandrogomesf/projeto-credit-score-eda-sql/blob/main/graficos/gasto%20por%20estado%20civil.png?raw=true)"
   ]
  },
  {
   "cell_type": "markdown",
   "id": "e50a4a88",
   "metadata": {},
   "source": [
    "> Sim. Pessoas casadas tendem a gastar menos, ainda que a difrença não seja tão grande em relação a solteiro e divorciado"
   ]
  },
  {
   "cell_type": "markdown",
   "id": "611d8140",
   "metadata": {
    "papermill": {
     "duration": 0.002826,
     "end_time": "2021-07-20T20:16:13.396381",
     "exception": false,
     "start_time": "2021-07-20T20:16:13.393555",
     "status": "completed"
    },
    "tags": []
   },
   "source": [
    "# Conclusão<a name=\"5\"></a>\n",
    "<div style=\"text-align: right\" \n",
    "     \n",
    "[Voltar ao índice](#topo)"
   ]
  },
  {
   "cell_type": "markdown",
   "id": "7bd2151a",
   "metadata": {
    "papermill": {
     "duration": 0.002826,
     "end_time": "2021-07-20T20:16:13.396381",
     "exception": false,
     "start_time": "2021-07-20T20:16:13.393555",
     "status": "completed"
    },
    "tags": []
   },
   "source": [
    "Essas foram **algumas** análises extraídas do dataset de crédito.  \n",
    "\n",
    "- A maior parte dos clientes possui renda até 40K \n",
    "- A maior parte dos clientes é masculino!\n",
    "- A escolaridade não parece influenciar no limite nem no tipo do cartão\n",
    "- Os clientes com maiores limites são em sua maioria homens \n",
    "- os clientes com menores limites são em sua maioria mulheres\n",
    "- Dentre os menores limites não há presença de cartão platinum\n",
    "- A faixa salarial impacta diretamente no limite de crédito\n",
    "- Nao existem clientes com salário anual acima de 60K do sexo feminino\n",
    "- As pessoas com a maior faixa salarial tem o maior limite também e representam apenas 8% do total de clientes\n",
    "- A maioria dos clientes são casados e com o menor limite médio\n",
    "- Como pessoas casadas gastam menos e o gasto é uma variável importante para definir o crédito, consequentemente, casados, independente do sexo têm menor crédito."
   ]
  }
 ],
 "metadata": {
  "kernelspec": {
   "display_name": "Python 3 (ipykernel)",
   "language": "python",
   "name": "python3"
  },
  "language_info": {
   "codemirror_mode": {
    "name": "ipython",
    "version": 3
   },
   "file_extension": ".py",
   "mimetype": "text/x-python",
   "name": "python",
   "nbconvert_exporter": "python",
   "pygments_lexer": "ipython3",
   "version": "3.11.4"
  },
  "papermill": {
   "default_parameters": {},
   "duration": 9.822258,
   "end_time": "2021-07-20T20:16:14.798746",
   "environment_variables": {},
   "exception": null,
   "input_path": "__notebook__.ipynb",
   "output_path": "__notebook__.ipynb",
   "parameters": {},
   "start_time": "2021-07-20T20:16:04.976488",
   "version": "2.3.3"
  }
 },
 "nbformat": 4,
 "nbformat_minor": 5
}
